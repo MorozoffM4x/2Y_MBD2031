{
 "cells": [
  {
   "cell_type": "markdown",
   "id": "bf983c65",
   "metadata": {},
   "source": [
    "# Задания"
   ]
  },
  {
   "cell_type": "markdown",
   "id": "56e3beca",
   "metadata": {},
   "source": [
    "### Задание 1: <a class=\"anchor\" id=\"task1\"></a>\n",
    "Все пункты нужно ввыполнить с использованием ТОЛЬКО срезов\n",
    "* Получите подстроку 'string' из строки test_string\n",
    "* Получите подстроку 'Just' из строки test_string\n",
    "* Получите подстроку 'simple' из строки test_string\n",
    "* Получите каждый 5 символ из строки test_string\n",
    "* Получите каждый 3 символ из строки test_string, начиная с конца."
   ]
  },
  {
   "cell_type": "code",
   "execution_count": 1,
   "id": "e2c8bd35",
   "metadata": {},
   "outputs": [],
   "source": [
    "test_string = 'Just a simple string'"
   ]
  },
  {
   "cell_type": "code",
   "execution_count": 2,
   "id": "92408fee",
   "metadata": {},
   "outputs": [
    {
     "name": "stdout",
     "output_type": "stream",
     "text": [
      "string\n",
      "Just\n",
      "simple\n",
      "Japt\n",
      "gr ps u\n"
     ]
    }
   ],
   "source": [
    "print(test_string[-6:])\n",
    "print(test_string[:4])\n",
    "print(test_string[7:-7])\n",
    "print(test_string[::5])\n",
    "print(test_string[::-3])"
   ]
  },
  {
   "cell_type": "markdown",
   "id": "2db611bc",
   "metadata": {},
   "source": [
    "### Задание 2: <a class=\"anchor\" id=\"task3\"></a>\n",
    "\n",
    "Написать функцию, которая будет приниметь одно значение с логическими типы, а затем ковертировать их в строковые 'True' и 'False' и возвращать эти значения."
   ]
  },
  {
   "cell_type": "code",
   "execution_count": 3,
   "id": "a881a6c0",
   "metadata": {},
   "outputs": [],
   "source": [
    "def bool_to_str(s):\n",
    "    return \"True\" if s == 1 else \"False\""
   ]
  },
  {
   "cell_type": "code",
   "execution_count": 4,
   "id": "940b265d",
   "metadata": {},
   "outputs": [
    {
     "data": {
      "text/plain": [
       "'True'"
      ]
     },
     "execution_count": 4,
     "metadata": {},
     "output_type": "execute_result"
    }
   ],
   "source": [
    "bool_to_str(1)"
   ]
  },
  {
   "cell_type": "markdown",
   "id": "87ee5b13",
   "metadata": {},
   "source": [
    "### Задание 3: <a class=\"anchor\" id=\"task3\"></a>\n",
    "\n",
    "Написать функцию, которая будет приниметь одно значение - список. Вычислить разницу между максимальным и минимальным значением и вернуть его."
   ]
  },
  {
   "cell_type": "code",
   "execution_count": 5,
   "id": "a5035209",
   "metadata": {},
   "outputs": [
    {
     "data": {
      "text/plain": [
       "7"
      ]
     },
     "execution_count": 5,
     "metadata": {},
     "output_type": "execute_result"
    }
   ],
   "source": [
    "nums = [1,4,3,8,5,2,7]\n",
    "def differ(num):\n",
    "    mini = min(num)\n",
    "    maxi = max(num)\n",
    "    diff = maxi - mini\n",
    "    return diff\n",
    "differ(nums)"
   ]
  },
  {
   "cell_type": "markdown",
   "id": "36501702",
   "metadata": {},
   "source": [
    "### Задание 4: <a class=\"anchor\" id=\"task4\"></a>\n",
    "\n",
    "Написать функцию, которая будет принимать одно значение - число. Функция должна возвращать список всех четных чисел в диапозоне от 1 до полученного числа. В этом задании нужно использовать list comprehension."
   ]
  },
  {
   "cell_type": "code",
   "execution_count": 6,
   "id": "d2c16a63",
   "metadata": {},
   "outputs": [
    {
     "data": {
      "text/plain": [
       "[2, 4, 6, 8, 10, 12, 14]"
      ]
     },
     "execution_count": 6,
     "metadata": {},
     "output_type": "execute_result"
    }
   ],
   "source": [
    "def num(ran):\n",
    "    z = []\n",
    "    for i in range(1,ran):\n",
    "        if i%2 == 0:\n",
    "            z.append(i)\n",
    "    if ran%2 == 0:\n",
    "        z.append(ran)\n",
    "    return z\n",
    "num(15)"
   ]
  },
  {
   "cell_type": "markdown",
   "id": "0b9b5ffe",
   "metadata": {},
   "source": [
    "### Задание 5: <a class=\"anchor\" id=\"task2\"></a>\n",
    "\n",
    "Напишите функцию, который имеет два аргумента - x и y. Функция должна выводить координатный угол, в котором находятся координаты (x, y). \n",
    "Точки внутри координатного угла I имеют положительные абсциссы и ординаты.\n",
    "Точки внутри координатного угла II имеют отрицательные абсциссы и положительные ординаты.\n",
    "Точки внутри координатного угла III имеют отрицательные абсциссы и ординаты\n",
    "Точки внутри координатного угла IV имеют положительные абсциссы и отрицательные ординаты."
   ]
  },
  {
   "cell_type": "code",
   "execution_count": 7,
   "id": "502f9ebc",
   "metadata": {},
   "outputs": [
    {
     "data": {
      "text/plain": [
       "'IV четветь'"
      ]
     },
     "execution_count": 7,
     "metadata": {},
     "output_type": "execute_result"
    }
   ],
   "source": [
    "import math\n",
    "def angle(x ,y):\n",
    "    quad = \"\"\n",
    "    if x > 0 and y > 0: \n",
    "        quad = \"I четверть\"\n",
    "    if x < 0 and y > 0: \n",
    "        quad = \"II четверть\"\n",
    "    if x < 0 and y < 0:\n",
    "        quad = \"III четверть\"\n",
    "    if x > 0 and y < 0:\n",
    "        quad = \"IV четветь\"\n",
    "    return quad\n",
    "\n",
    "angle(4, -4)"
   ]
  },
  {
   "cell_type": "markdown",
   "id": "f6b600c6",
   "metadata": {},
   "source": [
    "### Задание 6: <a class=\"anchor\" id=\"task2\"></a>\n",
    "\n",
    "Напишите функцию, которая принимает одно значение - число . Функция должна возвращать строку - полученное число в двоичном виде"
   ]
  },
  {
   "cell_type": "code",
   "execution_count": 8,
   "id": "65860e9f",
   "metadata": {},
   "outputs": [
    {
     "data": {
      "text/plain": [
       "'0b1111111111111111'"
      ]
     },
     "execution_count": 8,
     "metadata": {},
     "output_type": "execute_result"
    }
   ],
   "source": [
    "def binary(x):\n",
    "    return bin(x)\n",
    "binary(65535)"
   ]
  },
  {
   "cell_type": "markdown",
   "id": "77e3587d",
   "metadata": {},
   "source": [
    "### Задание 7:<a class=\"anchor\" id=\"task5\"></a>\n",
    "\n",
    "Написать функцию, которая будет принимать одно значение - список. Список содержит числа. Все числа, кроме двух, повторяются как минимум два раза. Вернуть список из этих двух неповторяющихся чисел"
   ]
  },
  {
   "cell_type": "code",
   "execution_count": 9,
   "id": "08b5b649",
   "metadata": {},
   "outputs": [
    {
     "data": {
      "text/plain": [
       "[-4, 5]"
      ]
     },
     "execution_count": 9,
     "metadata": {},
     "output_type": "execute_result"
    }
   ],
   "source": [
    "from collections import Counter\n",
    "def numbers(list_1):\n",
    "    z = []\n",
    "    for number, count in Counter(list_1).items():\n",
    "        if count < 2:\n",
    "            z.append(number)\n",
    "    return z\n",
    "a = [-10, -10, -8, -8, -8, -7, -7, -4, -2, -2, 0, 0, 1, 1, 5, 6, 6, 10, 10]\n",
    "numbers(a)"
   ]
  },
  {
   "cell_type": "markdown",
   "id": "8a07180f",
   "metadata": {
    "tags": []
   },
   "source": [
    "### Задание 8: <a class=\"anchor\" id=\"task2\"></a>\n",
    "\n",
    "Напишите функцию, которая принимает два значения - числа **num**, **length** (основное число, количество умножений). Функция должна возвращать список перемножений числа **num** **length** раз. Пример: test_function(7, 5) ➞ [7, 14, 21, 28, 35]"
   ]
  },
  {
   "cell_type": "code",
   "execution_count": 10,
   "id": "0c7ae72f",
   "metadata": {},
   "outputs": [
    {
     "data": {
      "text/plain": [
       "[8, 16, 24, 32, 40, 48, 56, 64, 72, 80, 88, 96, 104, 112, 120, 128]"
      ]
     },
     "execution_count": 10,
     "metadata": {},
     "output_type": "execute_result"
    }
   ],
   "source": [
    "def mult(num, lenght):\n",
    "    z = [] \n",
    "    for i in range(1,lenght+1):\n",
    "        z.append(num * i) \n",
    "    return z \n",
    "mult(8,16)"
   ]
  },
  {
   "cell_type": "markdown",
   "id": "ee967478",
   "metadata": {},
   "source": [
    "### Задание 9: <a class=\"anchor\" id=\"task6\"></a>\n",
    "\n",
    "Написать функцию, которая будет принимать одно значение - строку. Функция должна возвращать представление полученной строки закодированной азбукой Морзе. Входная строка может содержать буквы как нижнего, так и верхнего регистра. Междк всеми словами присутствует пробел"
   ]
  },
  {
   "cell_type": "code",
   "execution_count": 11,
   "id": "6ccffe7e",
   "metadata": {},
   "outputs": [
    {
     "data": {
      "text/plain": [
       "'--.--..- --.--....--.-. .--.-.'"
      ]
     },
     "execution_count": 11,
     "metadata": {},
     "output_type": "execute_result"
    }
   ],
   "source": [
    "char_to_dots = {\n",
    "  'A': '.-', 'B': '-...', 'C': '-.-.', 'D': '-..', 'E': '.', 'F': '..-.',\n",
    "  'G': '--.', 'H': '....', 'I': '..', 'J': '.---', 'K': '-.-', 'L': '.-..',\n",
    "  'M': '--', 'N': '-.', 'O': '---', 'P': '.--.', 'Q': '--.-', 'R': '.-.',\n",
    "  'S': '...', 'T': '-', 'U': '..-', 'V': '...-', 'W': '.--', 'X': '-..-',\n",
    "  'Y': '-.--', 'Z': '--..', ' ': ' ', '0': '-----',\n",
    "  '1': '.----', '2': '..---', '3': '...--', '4': '....-', '5': '.....',\n",
    "  '6': '-....', '7': '--...', '8': '---..', '9': '----.',\n",
    "  '&': '.-...', \"'\": '.----.', '@': '.--.-.', ')': '-.--.-', '(': '-.--.',\n",
    "  ':': '---...', ',': '--..--', '=': '-...-', '!': '-.-.--', '.': '.-.-.-',\n",
    "  '-': '-....-', '+': '.-.-.', '\"': '.-..-.', '?': '..--..', '/': '-..-.'\n",
    "}\n",
    "\n",
    "def morze(word):\n",
    "    z = \"\"\n",
    "    for i in word:\n",
    "        z = z + char_to_dots[i.upper()]\n",
    "    return z\n",
    "morze('Max Maniac @')"
   ]
  },
  {
   "cell_type": "markdown",
   "id": "3f53bb62",
   "metadata": {},
   "source": [
    "### Задание 10: <a class=\"anchor\" id=\"task6\"></a>\n",
    "\n",
    "Написать функцию, которая будет принимать одно значение - список. Функция должна возвращать самое частое значение в списке (встречается > N/2). Пример: test_function([\"A\", \"A\", \"A\", \"B\", \"C\", \"A\"]) ➞ \"A\""
   ]
  },
  {
   "cell_type": "code",
   "execution_count": 179,
   "id": "0239b3b7",
   "metadata": {},
   "outputs": [
    {
     "name": "stdout",
     "output_type": "stream",
     "text": [
      "{'A': 3, 'D': 3, 'B': 2, 'C': 1}\n"
     ]
    },
    {
     "data": {
      "text/plain": [
       "['A', 'D']"
      ]
     },
     "execution_count": 179,
     "metadata": {},
     "output_type": "execute_result"
    }
   ],
   "source": [
    "import operator\n",
    "def freq(list_in):\n",
    "    l = list_in\n",
    "    x = {}\n",
    "    i = \"\"\n",
    "    #Создаём словарь из списка со значением и количеством встречающихся букв.\n",
    "    for i in l:\n",
    "        x[i] = l.count(i)       \n",
    "    print(x)\n",
    "    #Из словаря создаём список ключей имеющих одинаковое максимальное значение.\n",
    "    z = [key for t in [max(x.values())] for key,val in x.items() if val == t] \n",
    "\n",
    "    return z\n",
    "\n",
    "freq([\"A\", \"A\", \"D\", \"B\", \"C\", \"A\", \"D\", \"D\", \"B\"])"
   ]
  },
  {
   "cell_type": "markdown",
   "id": "89c4a821",
   "metadata": {},
   "source": [
    "### Задание 11: \n",
    "Создайте функцию для выполнения основных арифметических операций, которая применяет сложение, вычитание, умножение и деление к строковому значению (например, \"12 + 24\" или \"23-21\" или \"12 // 12\" или \"12 * 21\").\n",
    "\n",
    "Здесь у нас есть 1 число, за которым следует пробел, затем оператор, за которым следует другой пробел, и 2 число. Возвращаемое значение должно быть числом.\n",
    "\n",
    "Применение функции eval() не допускается. В случае деления, всякий раз, когда второе число равно \"0\", возвращайте -1."
   ]
  },
  {
   "cell_type": "code",
   "execution_count": 13,
   "id": "6a6213b7",
   "metadata": {},
   "outputs": [
    {
     "data": {
      "text/plain": [
       "9.0"
      ]
     },
     "execution_count": 13,
     "metadata": {},
     "output_type": "execute_result"
    }
   ],
   "source": [
    "from operator import add, sub, mul, truediv\n",
    "def in_str(sstr):\n",
    "    operators = {\n",
    "    '+': add,\n",
    "    '-': sub,\n",
    "    '*': mul,\n",
    "    '/': truediv\n",
    "    }\n",
    "    \n",
    "    res = 0\n",
    "    s = sstr.split()\n",
    "    one = int(s[0])\n",
    "    two = int(s[2])\n",
    "    oper = s[1]\n",
    "    if two == 0: return -1\n",
    "    res = operators[oper](one, two)\n",
    "    return res\n",
    "    \n",
    "in_str(\"45 / 5\")"
   ]
  },
  {
   "cell_type": "markdown",
   "id": "cb9940e3",
   "metadata": {},
   "source": [
    "### Задание 12: \n",
    "Напишите функцию, которая принимает список списков и возвращает значение всех символов в нем, где каждый символ добавляет или отнимает что-то от общего балла. Значения символов:\n",
    "\n",
    "* \\# = 5\n",
    "* О = 3\n",
    "* Х = 1\n",
    "* ! = -1\n",
    "* !! = -3\n",
    "* !!! = -5\n",
    "\n",
    "Если итоговый результат отрицательный, верните 0 (например, 3 ``#``, 3 ``!!``, 2 ``!!!`` и ``X`` будет (5 + 5 + 5 - 3 - 3 - 3 - 5 - 5 + 1) = -3, так что верните 0."
   ]
  },
  {
   "cell_type": "code",
   "execution_count": 14,
   "id": "60556982",
   "metadata": {},
   "outputs": [
    {
     "name": "stdout",
     "output_type": "stream",
     "text": [
      "5 5\n",
      "3 -3\n",
      "2 -5\n",
      "1 1\n"
     ]
    },
    {
     "data": {
      "text/plain": [
       "7"
      ]
     },
     "execution_count": 14,
     "metadata": {},
     "output_type": "execute_result"
    }
   ],
   "source": [
    "from operator import mul\n",
    "def coder(list):\n",
    "    z = 0\n",
    "    number = {\n",
    "    '#': 5,\n",
    "    'О': 3,\n",
    "    'X': 1,\n",
    "    '!': -1,\n",
    "    '!!': -3,\n",
    "    '!!!': -5\n",
    "    }\n",
    "    for i in list:\n",
    "        m = i.split()\n",
    "        one = m[0]\n",
    "        try:\n",
    "            two = m[1]\n",
    "        except IndexError:\n",
    "            one = number[one]\n",
    "            two = 'X'\n",
    "        n = number[two]\n",
    "        print(one, n)\n",
    "        z += mul(int(one), n)\n",
    "        if z < 0: return 0\n",
    "    return z\n",
    "x = [\"5 #\", \"3 !!\", \"2 !!!\", \"X\"]\n",
    "coder(x)"
   ]
  },
  {
   "cell_type": "markdown",
   "id": "16f903fe",
   "metadata": {},
   "source": [
    "### Задание 13: <a class=\"anchor\" id=\"task7\"></a>\n",
    "\n",
    "Написать функцию, которая будет принимать одно значение - строку. Функция определяет свободные и занятые участки пляжа. Строка состоит из двух символов 0 - свободный участок, 1 - занятый участок. Из-за недавних ограничений новый человек не может занять место рядом с другим. Должно быть одно свободное место между двумя людьми, отдыхающими на пляже. Функци должна вернуть число - количество новых людей, которые могут воспользоваться местами на пляже."
   ]
  },
  {
   "cell_type": "code",
   "execution_count": 94,
   "id": "5ccb7c5e",
   "metadata": {},
   "outputs": [
    {
     "name": "stdout",
     "output_type": "stream",
     "text": [
      "6\n",
      "0\n",
      "1\n",
      "8\n"
     ]
    }
   ],
   "source": [
    "import re\n",
    "def beach(in_str):\n",
    "    places = 0\n",
    "    i = 0\n",
    "    zero = 0\n",
    "    lst1 = []\n",
    "    sum_p = 0\n",
    "    \n",
    "   #В части кода ниже проводим проверку на первые и последние два индекса на нули и если есть, \n",
    "#то перезаписываем строку подставляя 1 с нужной стороны.\n",
    "#Сначала строка переводится в список, затем заменяется нужный индекс на 1 и\n",
    "#перезаписывается строка. Так же это нужно чтобы создать крайние опорные единицы\n",
    "#для следующей части кода.\n",
    "\n",
    "    if in_str[0] == '0' and in_str[1] == '0':\n",
    "        places += 1\n",
    "        lst = list(in_str)\n",
    "        lst[0] = '1'\n",
    "        in_str = ''.join(lst)\n",
    "    if in_str[-1] == '0' and in_str[-2] == '0':\n",
    "        places += 1\n",
    "        lst = list(in_str)\n",
    "        lst[-1] = '1'\n",
    "        in_str = ''.join(lst)\n",
    "        \n",
    "#В части кода ниже строка снова переводится в список, считываются индексы расположения единиц и \n",
    "#производится математическое действие по вычислению свободного места.\n",
    "\n",
    "    while i < len(in_str):\n",
    "        if in_str[i] == '1':\n",
    "            lst1.append(i)\n",
    "        i += 1\n",
    "    #print(\"Номера занятых мест:\", lst1)\n",
    "    \n",
    "    for i in range(1, len(lst1)):\n",
    "        free = lst1[i] - lst1[i-1] - 1\n",
    "        places_4_new = free // 2\n",
    "        if free % 2 != 0:\n",
    "            places += sum_p + places_4_new\n",
    "   \n",
    "    return places\n",
    "\n",
    "print(beach(\"001010000000000\"))\n",
    "print(beach(\"1001\"))\n",
    "print(beach(\"0010010\"))\n",
    "print(beach(\"000000000000000\"))"
   ]
  },
  {
   "cell_type": "markdown",
   "id": "25dfc9bc",
   "metadata": {},
   "source": [
    "### Задание 14: <a class=\"anchor\" id=\"task7\"></a>\n",
    "\n",
    "Написать функцию, которая будет принимать одно значение - строку или список. Необходимо зашифровать строку. Первый элемент строки - код буквы в ascii (например 'a' = 97, a 'A' = 65). Следующий элемент - закодированная с помощью таблицы разница между текущим и предыдущим символом, итд. Если подается список - необходимо расшифровать его. Алгоритм такой же - первое число перекодируется в соответствием с таблицей ascii, второй символ - сумма первого и второго числа перекодированная с помощью таблицы ascii."
   ]
  },
  {
   "cell_type": "code",
   "execution_count": 16,
   "id": "7485343b",
   "metadata": {},
   "outputs": [
    {
     "ename": "SyntaxError",
     "evalue": "invalid character in identifier (<ipython-input-16-af13b1471780>, line 1)",
     "output_type": "error",
     "traceback": [
      "\u001b[1;36m  File \u001b[1;32m\"<ipython-input-16-af13b1471780>\"\u001b[1;36m, line \u001b[1;32m1\u001b[0m\n\u001b[1;33m    test_function(\"Hello\") ➞ [72, 29, 7, 0, 3]\u001b[0m\n\u001b[1;37m                           ^\u001b[0m\n\u001b[1;31mSyntaxError\u001b[0m\u001b[1;31m:\u001b[0m invalid character in identifier\n"
     ]
    }
   ],
   "source": [
    "test_function(\"Hello\") ➞ [72, 29, 7, 0, 3]\n",
    "\n",
    "test_function([ 72, 33, -73, 84, -12, -3, 13, -13, -68 ]) ➞ \"Hi there!\""
   ]
  },
  {
   "cell_type": "code",
   "execution_count": 17,
   "id": "c2e4c974",
   "metadata": {},
   "outputs": [
    {
     "name": "stdout",
     "output_type": "stream",
     "text": [
      "[72, 29, 7, 0, 3]\n",
      "Hi there!\n"
     ]
    }
   ],
   "source": [
    "def coder(x):\n",
    "    if isinstance(x, str):\n",
    "        m = [ord(x[0])]\n",
    "        for i in range(0, len(x) - 1):\n",
    "            m.append(ord(x[i + 1]) - ord(x[i]))\n",
    "        return m\n",
    "    elif isinstance(x, list):\n",
    "        s = chr(x[0])\n",
    "        for j in range(0, len(x) - 1):\n",
    "            s = s + chr(ord(s[j]) + x[j + 1])\n",
    "        return s      \n",
    "    \n",
    "print(coder(\"Hello\"))\n",
    "print(coder([ 72, 33, -73, 84, -12, -3, 13, -13, -68 ]))"
   ]
  },
  {
   "cell_type": "markdown",
   "id": "9ba89266",
   "metadata": {},
   "source": [
    "### Задание 15:\n",
    "Создайте функцию, которая определяет, может ли c каждого места в концертном заде видеть сцену. С места можно увидеть сцену, если значение этого места (указано во входном списке) строго больше, чем значение перед ним.\n",
    "\n",
    "Каждый может увидеть сцену в примере ниже:\n",
    "\n",
    "``[[1, 2, 3, 2, 1, 1],\n",
    " [2, 4, 4, 3, 2, 2],\n",
    " [5, 5, 5, 5, 4, 4],\n",
    " [6, 6, 7, 6, 5, 5]]``\n",
    "\n",
    "Не все видят сцену:\n",
    "\n",
    "``[[1, 2, 3, 2, 1, 1], \n",
    "  [2, 4, 4, 3, 2, 2], \n",
    "  [5, 5, 5, 10, 4, 4], \n",
    "  [6, 6, 7, 6, 5, 5]]``\n",
    "\n",
    "Функция должна возвращать True, если абсолютно все видят сцену, ичане False"
   ]
  },
  {
   "cell_type": "code",
   "execution_count": 18,
   "id": "1035cfce",
   "metadata": {},
   "outputs": [
    {
     "name": "stdout",
     "output_type": "stream",
     "text": [
      "True\n",
      "False\n"
     ]
    }
   ],
   "source": [
    "n1 = [[1, 2, 3, 2, 1, 1],\n",
    "     [2, 4, 4, 3, 2, 2],\n",
    "     [5, 5, 5, 5, 4, 4],\n",
    "     [6, 6, 7, 6, 5, 5]]\n",
    "n2 = [[1, 2, 3, 2, 1, 1],\n",
    "     [2, 4, 4, 3, 2, 2],\n",
    "     [5, 5, 5, 10, 4, 4],\n",
    "     [6, 6, 7, 6, 5, 5]]\n",
    "\n",
    "def hall(lst):\n",
    "    for i in range(0, len(lst)-1):\n",
    "        for j in range(0, len(lst[i+1])):\n",
    "            if lst[i][j] < lst[i+1][j]:\n",
    "                m = True\n",
    "            else:\n",
    "                m = False\n",
    "                break\n",
    "    return m\n",
    "\n",
    "print(hall(n1))\n",
    "print(hall(n2))"
   ]
  },
  {
   "cell_type": "markdown",
   "id": "e52cc238",
   "metadata": {},
   "source": [
    "### Задание 16:\n",
    "Создать функции, которая будет строить лестницу, используя знаки ‘_’ и ‘#’. Положительное значение обозначают, что направление лестницы направленно вверх и вниз для отрицательных значений.\n",
    "Пример\n",
    "\n",
    "``staircase(3) ➞ \"__#\\n_##\\n###\"\n",
    "__#\n",
    "_##\n",
    "###``\n",
    "\n",
    "``staircase(7) ➞ \"______#\\n_____##\\n____###\\n___####\\n__#####\\n_######\\n#######\"\n",
    "______#\n",
    "_____##\n",
    "____###\n",
    "___####\n",
    "__#####\n",
    "_######\n",
    "#######``\n",
    "\n",
    "``staircase(2) ➞ \"_#\\n##\"\n",
    "_#\n",
    "##``\n",
    "\n",
    "``staircase(-8) ➞ \"########\\n_#######\\n__######\\n___#####\\n____####\\n_____###\\n______##\\n_______#\"\n",
    "########\n",
    "_#######\n",
    "__######\n",
    "___#####\n",
    "____####\n",
    "_____###\n",
    "______##\n",
    "_______#``\n",
    "\n",
    "Замечания:\n",
    "Возвращаемая строка дополняется символом перехода на новую строку \\n"
   ]
  },
  {
   "cell_type": "code",
   "execution_count": 19,
   "id": "7fd5a9de",
   "metadata": {},
   "outputs": [
    {
     "name": "stdout",
     "output_type": "stream",
     "text": [
      "________________#\n",
      "_______________##\n",
      "______________###\n",
      "_____________####\n",
      "____________#####\n",
      "___________######\n",
      "__________#######\n",
      "_________########\n",
      "________#########\n",
      "_______##########\n",
      "______###########\n",
      "_____############\n",
      "____#############\n",
      "___##############\n",
      "__###############\n",
      "_################\n",
      "#################\n",
      "\n",
      "########\n",
      "_#######\n",
      "__######\n",
      "___#####\n",
      "____####\n",
      "_____###\n",
      "______##\n",
      "_______#\n",
      "\n"
     ]
    }
   ],
   "source": [
    "def steps(num):\n",
    "    m = ''\n",
    "    for i in range(1, abs(num) + 1):\n",
    "        if num > 0:\n",
    "            m += ('_' * (num - i) + '#' * i + '\\n')\n",
    "        else:\n",
    "            m += ('_' * (i - 1) + '#' * (abs(num) - i + 1) + '\\n')\n",
    "    return m\n",
    "    \n",
    "print(steps(17))\n",
    "print(steps(-8))"
   ]
  },
  {
   "cell_type": "markdown",
   "id": "7ab7c813",
   "metadata": {},
   "source": [
    "### Задание 17:\n",
    "\n",
    "Имеется строк из символов в нижнем регистре ascii[[\"a\"..\"z\"]]. Нужно сократить строку следующим образом: берется пара соседних символов и если они одинаковы, то они удаляются. Например aab должно превратится в b.\n",
    "Нужно удалить как можно больше символов. Если результирующая строка пустая, нужно вернуть \"Empty String\"\n",
    "\n",
    "Пример:\n",
    "\n",
    "``super_reduced_string(\"aaabccddd\") ➞ \"abd\"``"
   ]
  },
  {
   "cell_type": "code",
   "execution_count": 20,
   "id": "31743beb",
   "metadata": {},
   "outputs": [
    {
     "data": {
      "text/plain": [
       "'abd'"
      ]
     },
     "execution_count": 20,
     "metadata": {},
     "output_type": "execute_result"
    }
   ],
   "source": [
    "def super_reduced_string(in_string):\n",
    "    if len(in_string) == 0:\n",
    "        return \"Пустая строка\"\n",
    "    n = list(in_string)\n",
    "    for i, j in enumerate(n):\n",
    "        try:\n",
    "            if n[i+1] == j:\n",
    "                n.pop(i + 1)\n",
    "                n.pop(i)\n",
    "                return super_reduced_string(\"\".join(n))\n",
    "        except IndexError:\n",
    "            return in_string\n",
    "\n",
    "super_reduced_string(\"aaabccddd\")"
   ]
  },
  {
   "cell_type": "markdown",
   "id": "ba5b7c85",
   "metadata": {},
   "source": [
    "### Задание 18:\n",
    "\n",
    "Создать функцию, которая вернет ближайшую к текущей странице главу. Если две главы одинаково близко, то выбирается та, которая находится на большей по порядку странице.\n",
    "Пример\n",
    "\n",
    "``nearest_chapter({\n",
    "  \"Chapter 1\" : 1,\n",
    "  \"Chapter 2\" : 15,\n",
    "  \"Chapter 3\" : 37\n",
    "}, 10) ➞ \"Chapter 2\"``\n",
    "\n",
    "\n",
    "``nearest_chapter({\n",
    "  \"New Beginnings\" : 1,\n",
    "  \"Strange Developments\" : 62,\n",
    "  \"The End?\" : 194,\n",
    "  \"The True Ending\" : 460\n",
    "}, 200) ➞ \"The End?\"``\n",
    "\n",
    "\n",
    "``nearest_chapter({\n",
    "  \"Chapter 1a\" : 1,\n",
    "  \"Chapter 1b\" : 5\n",
    "}, 3) ➞ \"Chapter 1b\"``"
   ]
  },
  {
   "cell_type": "code",
   "execution_count": 21,
   "id": "19e37d74",
   "metadata": {},
   "outputs": [
    {
     "name": "stdout",
     "output_type": "stream",
     "text": [
      "Chapter 2\n",
      "The End?\n",
      "Chapter 1b\n"
     ]
    }
   ],
   "source": [
    "def nearest_chapter(chapters, page):\n",
    "    diff = 0\n",
    "    diff_list = []\n",
    "    \n",
    "    values_c = list(chapters.values())\n",
    "    value_k = list(chapters.keys())\n",
    "    \n",
    "    for i in range(len(chapters)):\n",
    "        diff = abs(page - values_c[i])\n",
    "        diff_list.append(diff)\n",
    "        \n",
    "    min_index = diff_list.index(min(diff_list))\n",
    "    if min_index == 0:\n",
    "        return value_k[values_c.index(max(values_c))]\n",
    "    else:\n",
    "        return value_k[min_index]\n",
    "    \n",
    "print(nearest_chapter({\n",
    "  \"Chapter 1\" : 1,\n",
    "  \"Chapter 2\" : 15,\n",
    "  \"Chapter 3\" : 37\n",
    "}, 10))\n",
    "\n",
    "print(nearest_chapter({\n",
    "  \"New Beginnings\" : 1,\n",
    "  \"Strange Developments\" : 62,\n",
    "  \"The End?\" : 194,\n",
    "  \"The True Ending\" : 460\n",
    "}, 200))\n",
    "\n",
    "print(nearest_chapter({\n",
    "  \"Chapter 1a\" : 1,\n",
    "  \"Chapter 1b\" : 5\n",
    "}, 3))"
   ]
  }
 ],
 "metadata": {
  "kernelspec": {
   "display_name": "Python 3",
   "language": "python",
   "name": "python3"
  },
  "language_info": {
   "codemirror_mode": {
    "name": "ipython",
    "version": 3
   },
   "file_extension": ".py",
   "mimetype": "text/x-python",
   "name": "python",
   "nbconvert_exporter": "python",
   "pygments_lexer": "ipython3",
   "version": "3.8.8"
  }
 },
 "nbformat": 4,
 "nbformat_minor": 5
}
