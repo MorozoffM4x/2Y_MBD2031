{
 "cells": [
  {
   "cell_type": "markdown",
   "id": "88ef2c49",
   "metadata": {},
   "source": [
    "# Задания"
   ]
  },
  {
   "cell_type": "markdown",
   "id": "806cf352",
   "metadata": {},
   "source": [
    "### Задание 1: <a class=\"anchor\" id=\"task1\"></a>\n",
    "Все пункты нужно ввыполнить с использованием ТОЛЬКО срезов\n",
    "* Получите подстроку 'string' из строки test_string\n",
    "* Получите подстроку 'Just' из строки test_string\n",
    "* Получите подстроку 'simple' из строки test_string\n",
    "* Получите каждый 5 символ из строки test_string\n",
    "* Получите каждый 3 символ из строки test_string, начиная с конца."
   ]
  },
  {
   "cell_type": "code",
   "execution_count": 1,
   "id": "4084c8fa",
   "metadata": {},
   "outputs": [],
   "source": [
    "test_string = 'Just a simple string'"
   ]
  },
  {
   "cell_type": "code",
   "execution_count": 2,
   "id": "374f9d96",
   "metadata": {},
   "outputs": [
    {
     "name": "stdout",
     "output_type": "stream",
     "text": [
      "string\n"
     ]
    }
   ],
   "source": [
    "print(test_string[14:])"
   ]
  },
  {
   "cell_type": "code",
   "execution_count": 3,
   "id": "95677b18",
   "metadata": {},
   "outputs": [
    {
     "name": "stdout",
     "output_type": "stream",
     "text": [
      "Just\n"
     ]
    }
   ],
   "source": [
    "print(test_string[:4])"
   ]
  },
  {
   "cell_type": "code",
   "execution_count": 4,
   "id": "589c5977",
   "metadata": {},
   "outputs": [
    {
     "name": "stdout",
     "output_type": "stream",
     "text": [
      "simple\n"
     ]
    }
   ],
   "source": [
    "print(test_string[7:13])"
   ]
  },
  {
   "cell_type": "code",
   "execution_count": 5,
   "id": "318ebdad",
   "metadata": {},
   "outputs": [
    {
     "name": "stdout",
     "output_type": "stream",
     "text": [
      " msg\n"
     ]
    }
   ],
   "source": [
    "every_5_chr = test_string[4:len(test_string):5]\n",
    "print(every_5_chr)"
   ]
  },
  {
   "cell_type": "code",
   "execution_count": 6,
   "id": "f111ffae",
   "metadata": {},
   "outputs": [
    {
     "name": "stdout",
     "output_type": "stream",
     "text": [
      "islias\n"
     ]
    }
   ],
   "source": [
    "every_3_chr = test_string[-3:0:-3]\n",
    "print(every_3_chr)"
   ]
  },
  {
   "cell_type": "markdown",
   "id": "6a0160c0",
   "metadata": {},
   "source": [
    "### Задание 2: <a class=\"anchor\" id=\"task3\"></a>\n",
    "\n",
    "Написать функцию, которая будет приниметь одно значение с логическими типы, а затем ковертировать их в строковые 'True' и 'False' и возвращать эти значения."
   ]
  },
  {
   "cell_type": "code",
   "execution_count": 7,
   "id": "fb9d8d57",
   "metadata": {},
   "outputs": [
    {
     "name": "stdout",
     "output_type": "stream",
     "text": [
      "False\n",
      "True\n"
     ]
    }
   ],
   "source": [
    "def logic_type (num):\n",
    "    if num:\n",
    "        return 'True'\n",
    "    else:\n",
    "        return 'False'\n",
    "\n",
    "print(logic_type(4 == 1))\n",
    "print(logic_type(3 == 3))"
   ]
  },
  {
   "cell_type": "markdown",
   "id": "10a19f0d",
   "metadata": {},
   "source": [
    "### Задание 3: <a class=\"anchor\" id=\"task3\"></a>\n",
    "\n",
    "Написать функцию, которая будет приниметь одно значение - список. Вычислить разницу между максимальным и минимальным значением и вернуть его."
   ]
  },
  {
   "cell_type": "code",
   "execution_count": 8,
   "id": "1ce91a06",
   "metadata": {},
   "outputs": [
    {
     "name": "stdout",
     "output_type": "stream",
     "text": [
      "66\n",
      "540\n"
     ]
    }
   ],
   "source": [
    "def diff_max_min(lst):\n",
    "    max_value = max(lst)\n",
    "    min_value = min(lst)\n",
    "    res_diff = abs(max_value) - abs(min_value)\n",
    "    return res_diff\n",
    "\n",
    "print(diff_max_min([1,5,67,9,3]))\n",
    "print(diff_max_min([6,7,-18,29,1,558]))\n",
    "    "
   ]
  },
  {
   "cell_type": "markdown",
   "id": "5dc46df0",
   "metadata": {},
   "source": [
    "### Задание 4: <a class=\"anchor\" id=\"task4\"></a>\n",
    "\n",
    "Написать функцию, которая будет принимать одно значение - число. Функция должна возвращать список всех четных чисел в диапозоне от 1 до полученного числа. В этом задании нужно использовать list comprehension."
   ]
  },
  {
   "cell_type": "code",
   "execution_count": 9,
   "id": "8e0370a4",
   "metadata": {},
   "outputs": [
    {
     "name": "stdout",
     "output_type": "stream",
     "text": [
      "[1, 2, 4, 6]\n",
      "[1, 2, 4, 6, 8]\n",
      "[1, 2, 4, 6, 8, 10, 12, 14, 16, 18, 20, 22, 24, 26, 28, 30, 32, 34, 36, 38, 40, 42, 44, 46, 48, 50, 52, 54, 56, 58, 60, 62, 64, 66, 68, 70, 72, 74, 76, 78, 80, 82, 84, 86, 88, 90, 92, 94, 96, 98, 100]\n"
     ]
    }
   ],
   "source": [
    "def lst_even(num):\n",
    "    lst = []\n",
    "    if num > 0:\n",
    "        lst.append(1)\n",
    "    lst = lst + [i for i in range(2, num + 1,2)]\n",
    "    return lst\n",
    "\n",
    "print(lst_even(6))\n",
    "print(lst_even(9))\n",
    "print(lst_even(100))    "
   ]
  },
  {
   "cell_type": "markdown",
   "id": "22f9e4a8",
   "metadata": {},
   "source": [
    "## Задание 5: <a class=\"anchor\" id=\"task2\"></a>\n",
    "\n",
    "Напишите функцию, который имеет два аргумента - x и y. Функция должна выводить координатный угол, в котором находятся координаты (x, y). \n",
    "Точки внутри координатного угла I имеют положительные абсциссы и ординаты.\n",
    "Точки внутри координатного угла II имеют отрицательные абсциссы и положительные ординаты.\n",
    "Точки внутри координатного угла III имеют отрицательные абсциссы и ординаты\n",
    "Точки внутри координатного угла IV имеют положительные абсциссы и отрицательные ординаты."
   ]
  },
  {
   "cell_type": "code",
   "execution_count": 10,
   "id": "3e4e0a30",
   "metadata": {},
   "outputs": [
    {
     "name": "stdout",
     "output_type": "stream",
     "text": [
      "I координатный угол\n",
      "III координатный угол\n",
      "IV координатный угол\n",
      "II координатный угол\n"
     ]
    }
   ],
   "source": [
    "def coordinate_angle(x, y):\n",
    "    if x > 0 and y > 0:\n",
    "        return 'I координатный угол'\n",
    "    elif x < 0 and y > 0:\n",
    "        return 'II координатный угол'\n",
    "    elif x < 0 and y < 0:\n",
    "        return 'III координатный угол'\n",
    "    else:\n",
    "        return 'IV координатный угол'\n",
    "    \n",
    "print(coordinate_angle(3, 4))\n",
    "print(coordinate_angle(-23, -13))\n",
    "print(coordinate_angle(10, -4))\n",
    "print(coordinate_angle(-18, 8))"
   ]
  },
  {
   "cell_type": "markdown",
   "id": "0de8fddf",
   "metadata": {},
   "source": [
    "### Задание 6: <a class=\"anchor\" id=\"task2\"></a>\n",
    "\n",
    "Напишите функцию, которая принимает одно значение - число . Функция должна возвращать строку - полученное число в двоичном виде"
   ]
  },
  {
   "cell_type": "code",
   "execution_count": 11,
   "id": "144386d1",
   "metadata": {},
   "outputs": [
    {
     "name": "stdout",
     "output_type": "stream",
     "text": [
      "0b1010\n",
      "0b10\n",
      "0b101\n"
     ]
    }
   ],
   "source": [
    "def str_bin(num):\n",
    "    return bin(num)\n",
    "\n",
    "print(str_bin(10))\n",
    "print(str_bin(2))\n",
    "print(str_bin(5))"
   ]
  },
  {
   "cell_type": "markdown",
   "id": "ec8ad568",
   "metadata": {},
   "source": [
    "### Задание 7:<a class=\"anchor\" id=\"task5\"></a>\n",
    "\n",
    "Написать функцию, которая будет принимать одно значение - список. Список содержит числа. Все числа, кроме двух, повторяются как минимум два раза. Вернуть список из этих двух неповторяющихся чисел"
   ]
  },
  {
   "cell_type": "code",
   "execution_count": 12,
   "id": "dd4cdb9a",
   "metadata": {},
   "outputs": [
    {
     "name": "stdout",
     "output_type": "stream",
     "text": [
      "[3, 6]\n",
      "[6, 8]\n"
     ]
    }
   ],
   "source": [
    "def not_repeating_numbers(lst):\n",
    "    return [x for i, x in enumerate(lst) if lst.count(x) == 1]\n",
    "\n",
    "print(not_repeating_numbers([1,1,3,4,4,6,8,8,11,11]))\n",
    "print(not_repeating_numbers([4,4,5,6,5,10,34,8,10,34,4,10]))"
   ]
  },
  {
   "cell_type": "markdown",
   "id": "0b082a89",
   "metadata": {
    "tags": []
   },
   "source": [
    "### Задание 8: <a class=\"anchor\" id=\"task2\"></a>\n",
    "\n",
    "Напишите функцию, которая принимает два значения - числа **num**, **length** (основное число, количество умножений). Функция должна возвращать список перемножений числа **num** **length** раз. Пример: test_function(7, 5) ➞ [7, 14, 21, 28, 35]"
   ]
  },
  {
   "cell_type": "code",
   "execution_count": 13,
   "id": "77dcffc8",
   "metadata": {},
   "outputs": [
    {
     "name": "stdout",
     "output_type": "stream",
     "text": [
      "[7, 14, 21, 28, 35]\n",
      "[6, 12, 18]\n",
      "[9, 18, 27, 36, 45, 54, 63, 72, 81, 90]\n"
     ]
    }
   ],
   "source": [
    "def num_multiplications(num, length):\n",
    "    return [num * x for x in range(1, length + 1)]\n",
    "\n",
    "print(num_multiplications(7, 5))\n",
    "print(num_multiplications(6, 3))\n",
    "print(num_multiplications(9, 10))"
   ]
  },
  {
   "cell_type": "markdown",
   "id": "ecc65c5f",
   "metadata": {},
   "source": [
    "### Задание 9: <a class=\"anchor\" id=\"task6\"></a>\n",
    "\n",
    "Написать функцию, которая будет принимать одно значение - строку. Функция должна возвращать представление полученной строки закодированной азбукой Морзе. Входная строка может содержать буквы как нижнего, так и верхнего регистра. Междк всеми словами присутствует пробел"
   ]
  },
  {
   "cell_type": "code",
   "execution_count": 14,
   "id": "06f93207",
   "metadata": {},
   "outputs": [
    {
     "name": "stdout",
     "output_type": "stream",
     "text": [
      "......-...-..-----..-- ---.-- ..-..-....-.-..-.-.--\n",
      "..-. -..... ..-...--..-.-.. .-.----...----... .--...-...-.. .-----.-.-.- .-- -..... ..-..--.-.----.-........-.-.-\n",
      "-.-.......-.-....... .-.-.. -..... ..-..-...-....- .-...--.-.. .--...--.-.-......-.-.-\n"
     ]
    }
   ],
   "source": [
    "char_to_dots = {\n",
    "  'A': '.-', 'B': '-...', 'C': '-.-.', 'D': '-..', 'E': '.', 'F': '..-.',\n",
    "  'G': '--.', 'H': '....', 'I': '..', 'J': '.---', 'K': '-.-', 'L': '.-..',\n",
    "  'M': '--', 'N': '-.', 'O': '---', 'P': '.--.', 'Q': '--.-', 'R': '.-.',\n",
    "  'S': '...', 'T': '-', 'U': '..-', 'V': '...-', 'W': '.--', 'X': '-..-',\n",
    "  'Y': '-.--', 'Z': '--..', ' ': ' ', '0': '-----',\n",
    "  '1': '.----', '2': '..---', '3': '...--', '4': '....-', '5': '.....',\n",
    "  '6': '-....', '7': '--...', '8': '---..', '9': '----.',\n",
    "  '&': '.-...', \"'\": '.----.', '@': '.--.-.', ')': '-.--.-', '(': '-.--.',\n",
    "  ':': '---...', ',': '--..--', '=': '-...-', '!': '-.-.--', '.': '.-.-.-',\n",
    "  '-': '-....-', '+': '.-.-.', '\"': '.-..-.', '?': '..--..', '/': '-..-.'\n",
    "}\n",
    "def morse_code(in_str):\n",
    "    in_str = in_str.upper()\n",
    "    s = ''\n",
    "    for i in range(0, len(in_str)):\n",
    "        # Раскомментировать, если потребуется побуквенный вывод\n",
    "        # print(in_str[i], char_to_dots[in_str[i]])\n",
    "        s += char_to_dots.get(in_str[i])\n",
    "    return s\n",
    "\n",
    "print(morse_code('Hello, my friend!'))\n",
    "print(morse_code('In the future robots will work at the factories.'))\n",
    "print(morse_code('Cheetahs are the fastest land animals.'))"
   ]
  },
  {
   "cell_type": "markdown",
   "id": "8cce639a",
   "metadata": {},
   "source": [
    "### Задание 10: <a class=\"anchor\" id=\"task6\"></a>\n",
    "\n",
    "Написать функцию, которая будет принимать одно значение - список. Функция должна возвращать самое частое значение в списке (встречается > N/2). Пример: test_function([\"A\", \"A\", \"A\", \"B\", \"C\", \"A\"]) ➞ \"A\""
   ]
  },
  {
   "cell_type": "code",
   "execution_count": 15,
   "id": "59eb4b53",
   "metadata": {},
   "outputs": [
    {
     "name": "stdout",
     "output_type": "stream",
     "text": [
      "A\n",
      "B\n",
      "C\n",
      "B\n"
     ]
    }
   ],
   "source": [
    "def frequent_value(lst):\n",
    "    # список из неповторяющихся элементов\n",
    "    lst_elem = []\n",
    "    for i in range(len(lst)):\n",
    "        if not(lst[i] in lst_elem):\n",
    "            lst_elem.append(lst[i])\n",
    "    \n",
    "    # список с количеством повторов элементов\n",
    "    # lst_values[0] = lst_elem[0], ..., lst_values[n] = lst_elem[n] \n",
    "    lst_values = [] \n",
    "    for i in range(len(lst_elem)):\n",
    "        quantity_elem = lst.count(lst_elem[i])\n",
    "        lst_values.append(quantity_elem)\n",
    "    return lst_elem[lst_values.index(max(lst_values))]\n",
    "\n",
    "print(frequent_value([\"A\", \"A\", \"A\", \"B\", \"C\", \"A\"]))\n",
    "print(frequent_value([\"B\", \"B\", \"A\", \"B\", \"C\", \"A\"]))\n",
    "print(frequent_value([\"A\", \"A\", \"A\", \"B\", \"C\", \"A\", \"C\", \"C\", \"C\", \"C\"]))\n",
    "print(frequent_value([\"G\", \"G\", \"B\", \"B\", \"A\", \"B\", \"C\", \"A\"]))"
   ]
  },
  {
   "cell_type": "markdown",
   "id": "3c38a6e8",
   "metadata": {},
   "source": [
    "### Задание 11: \n",
    "Создайте функцию для выполнения основных арифметических операций, которая применяет сложение, вычитание, умножение и деление к строковому значению (например, \"12 + 24\" или \"23-21\" или \"12 // 12\" или \"12 * 21\").\n",
    "\n",
    "Здесь у нас есть 1 число, за которым следует пробел, затем оператор, за которым следует другой пробел, и 2 число. Возвращаемое значение должно быть числом.\n",
    "\n",
    "Применение функции eval() не допускается. В случае деления, всякий раз, когда второе число равно \"0\", возвращайте -1."
   ]
  },
  {
   "cell_type": "code",
   "execution_count": 16,
   "id": "fd0acd6b",
   "metadata": {},
   "outputs": [
    {
     "name": "stdout",
     "output_type": "stream",
     "text": [
      "36\n",
      "2\n",
      "1\n",
      "252\n",
      "-1\n",
      "304\n",
      "-203\n"
     ]
    }
   ],
   "source": [
    "def arithmetic_operations(str_num):\n",
    "    str_num = str_num.replace(' ', '')\n",
    "    if \"+\" in str_num:\n",
    "        index_sign = str_num.index(\"+\")\n",
    "        num_a = str_num[:index_sign]\n",
    "        num_b = str_num[index_sign + 1:]\n",
    "        res = int(num_a) + int(num_b)\n",
    "        return res\n",
    "    elif \"-\" in str_num:\n",
    "        index_sign = str_num.index(\"-\")\n",
    "        num_a = str_num[:index_sign]\n",
    "        num_b = str_num[index_sign + 1:]\n",
    "        res = int(num_a) - int(num_b)\n",
    "        return res\n",
    "    elif \"//\" in str_num:\n",
    "        index_sign = str_num.index(\"//\")\n",
    "        num_a = int(str_num[:index_sign])\n",
    "        num_b = int(str_num[index_sign + 2:])\n",
    "        if num_b == 0:\n",
    "            return -1\n",
    "        else:\n",
    "            res = num_a // num_b\n",
    "            return res\n",
    "    elif \"*\" in str_num:\n",
    "        index_sign = str_num.index(\"*\")\n",
    "        num_a = str_num[:index_sign]\n",
    "        num_b = str_num[index_sign + 1:]\n",
    "        res = int(num_a) * int(num_b)\n",
    "        return res\n",
    "    \n",
    "\n",
    "print(arithmetic_operations(\"12 + 24\"))\n",
    "print(arithmetic_operations(\"23 - 21\"))\n",
    "print(arithmetic_operations(\"12 // 12\"))\n",
    "print(arithmetic_operations(\"12 * 21\"))\n",
    "print(arithmetic_operations(\"12 // 0\"))\n",
    "print(arithmetic_operations(\"19 * 16\"))\n",
    "print(arithmetic_operations(\"10 - 213\"))"
   ]
  },
  {
   "cell_type": "markdown",
   "id": "3c5e74b6",
   "metadata": {},
   "source": [
    "### Задание 12: \n",
    "Напишите функцию, которая принимает список списков и возвращает значение всех символов в нем, где каждый символ добавляет или отнимает что-то от общего балла. Значения символов:\n",
    "\n",
    "* \\# = 5\n",
    "* О = 3\n",
    "* Х = 1\n",
    "* ! = -1\n",
    "* !! = -3\n",
    "* !!! = -5\n",
    "\n",
    "Если итоговый результат отрицательный, верните 0 (например, 3 ``#``, 3 ``!!``, 2 ``!!!`` и ``X`` будет (5 + 5 + 5 - 3 - 3 - 3 - 5 - 5 + 1) = -3, так что верните 0."
   ]
  },
  {
   "cell_type": "code",
   "execution_count": 2,
   "id": "6de36464",
   "metadata": {},
   "outputs": [
    {
     "name": "stdout",
     "output_type": "stream",
     "text": [
      "0\n",
      "2\n",
      "0\n"
     ]
    }
   ],
   "source": [
    "value_symbols = {\n",
    "    \"#\" : 5,\n",
    "    \"O\" : 3,\n",
    "    \"X\" : 1,\n",
    "    \"!\" : -1,\n",
    "    \"!!\" : -3,\n",
    "    \"!!!\" : -5 \n",
    "}\n",
    "def add_sub(lst):\n",
    "    s = 0\n",
    "    for i in range(len(lst)):\n",
    "        for j in range(len(lst[i])):\n",
    "            #print(lst[i][j])\n",
    "            s = s + value_symbols[lst[i][j]]\n",
    "            #print(value_symbols[lst[i][j]])\n",
    "    if s < 0:\n",
    "        return 0\n",
    "    else:\n",
    "        return s\n",
    "\n",
    "\n",
    "print(add_sub([['#', '!!!', '!!'], ['!!!','X','#'], ['!!', '!!', '#']]))\n",
    "print(add_sub([['#','O', 'X'], ['!!!', '!'], ['X', 'O', '!!!']]))\n",
    "print(add_sub([['#', '!!!', 'X'], ['!!!','X']]))\n"
   ]
  },
  {
   "cell_type": "markdown",
   "id": "78c059af",
   "metadata": {},
   "source": [
    "### Задание 13: <a class=\"anchor\" id=\"task7\"></a>\n",
    "\n",
    "Написать функцию, которая будет принимать одно значение - строку. Функция определяет свободные и занятые участки пляжа. Строка состоит из двух символов 0 - свободный участок, 1 - занятый участок. Из-за недавних ограничений новый человек не может занять место рядом с другим. Должно быть одно свободное место между двумя людьми, отдыхающими на пляже. Функци должна вернуть число - количество новых людей, которые могут воспользоваться местами на пляже."
   ]
  },
  {
   "cell_type": "code",
   "execution_count": 4,
   "id": "c9accc7a",
   "metadata": {},
   "outputs": [
    {
     "name": "stdout",
     "output_type": "stream",
     "text": [
      "Номера мест, которые заняты: [0, 11]\n",
      "0\n",
      "Номера мест, которые заняты: [2, 4, 7]\n",
      "0.5\n",
      "Номера мест, которые заняты: [0, 3, 5, 8]\n",
      "0.5\n",
      "Номера мест, которые заняты: [0, 3, 6, 10]\n",
      "1.5\n"
     ]
    }
   ],
   "source": [
    "def people_on_the_beach(in_str):\n",
    "    i = 0\n",
    "    lst1 = []\n",
    "    while i < len(in_str):\n",
    "        if in_str[i] == '1':\n",
    "            lst1.append(i)\n",
    "        i += 1\n",
    "    print(\"Номера мест, которые заняты:\", lst1)\n",
    "    \n",
    "    sum_people = 0\n",
    "    # Вычисляем, можно ли на свободных местах расположить людей\n",
    "    # на необходимом расстоянии друг от друга\n",
    "    for i in range(1, len(lst1)):\n",
    "        num_free_seats = lst1[i] - lst1[i-1] - 1 # Свободные места\n",
    "        #print(num_free_seats)\n",
    "        places_for_new_people = num_free_seats // 2\n",
    "        if num_free_seats % 2 != 0:\n",
    "            sum_people = sum_people + places_for_new_people # Общее количество мест\n",
    "    return sum_people\n",
    "\n",
    "print(people_on_the_beach(\"1000000000010\"))\n",
    "print(people_on_the_beach(\"00101001\"))\n",
    "print(people_on_the_beach(\"100101001\"))\n",
    "print(people_on_the_beach(\"10010010001000000\"))"
   ]
  },
  {
   "cell_type": "markdown",
   "id": "83f6c970",
   "metadata": {},
   "source": [
    "### Задание 14: <a class=\"anchor\" id=\"task7\"></a>\n",
    "\n",
    "Написать функцию, которая будет принимать одно значение - строку или список. Необходимо зашифровать строку. Первый элемент строки - код буквы в ascii (например 'a' = 97, a 'A' = 65). Следующий элемент - закодированная с помощью таблицы разница между текущим и предыдущим символом, итд. Если подается список - необходимо расшифровать его. Алгоритм такой же - первое число перекодируется в соответствием с таблицей ascii, второй символ - сумма первого и второго числа перекодированная с помощью таблицы ascii."
   ]
  },
  {
   "cell_type": "raw",
   "id": "942ff75c",
   "metadata": {},
   "source": [
    "test_function(\"Hello\") ➞ [72, 29, 7, 0, 3]\n",
    "\n",
    "test_function([ 72, 33, -73, 84, -12, -3, 13, -13, -68 ]) ➞ \"Hi there!\""
   ]
  },
  {
   "cell_type": "code",
   "execution_count": 19,
   "id": "a9a7ca50",
   "metadata": {},
   "outputs": [
    {
     "name": "stdout",
     "output_type": "stream",
     "text": [
      "[72, 29, 7, 0, 3]\n",
      "Hi there!\n"
     ]
    }
   ],
   "source": [
    "def coding(x):\n",
    "    if isinstance(x, str):\n",
    "        lst = [ord(x[0])]\n",
    "        for i in range(0, len(x) - 1):\n",
    "            #print(ord(x[i+1]), ord(x[i]), ord(x[i+1]) - ord(x[i]))\n",
    "            lst.append(ord(x[i + 1]) - ord(x[i]))\n",
    "        return lst\n",
    "    elif isinstance(x, list):\n",
    "        s = chr(x[0])\n",
    "        lst_buf = []\n",
    "        for j in range(0, len(x) - 1):\n",
    "            s = s + chr(ord(s[j]) + x[j + 1])\n",
    "        return s      \n",
    "    \n",
    "print(coding(\"Hello\"))\n",
    "print(coding([ 72, 33, -73, 84, -12, -3, 13, -13, -68 ]))"
   ]
  },
  {
   "cell_type": "markdown",
   "id": "7a5b5dc3",
   "metadata": {},
   "source": [
    "### Задание 15:\n",
    "Создайте функцию, которая определяет, может ли c каждого места в концертном заде видеть сцену. С места можно увидеть сцену, если значение этого места (указано во входном списке) строго больше, чем значение перед ним.\n",
    "\n",
    "Каждый может увидеть сцену в примере ниже:\n",
    "\n",
    "``[[1, 2, 3, 2, 1, 1],\n",
    " [2, 4, 4, 3, 2, 2],\n",
    " [5, 5, 5, 5, 4, 4],\n",
    " [6, 6, 7, 6, 5, 5]]``\n",
    "\n",
    "Не все видят сцену:\n",
    "\n",
    "``[[1, 2, 3, 2, 1, 1], \n",
    "  [2, 4, 4, 3, 2, 2], \n",
    "  [5, 5, 5, 10, 4, 4], \n",
    "  [6, 6, 7, 6, 5, 5]]``\n",
    "\n",
    "Функция должна возвращать True, если абсолютно все видят сцену, ичане False"
   ]
  },
  {
   "cell_type": "code",
   "execution_count": 20,
   "id": "e061a752",
   "metadata": {},
   "outputs": [
    {
     "name": "stdout",
     "output_type": "stream",
     "text": [
      "True\n",
      "False\n"
     ]
    }
   ],
   "source": [
    "def places_in_the_hall(lst):\n",
    "    for i in range(0, len(lst)-1):\n",
    "        for j in range(0, len(lst[i+1])):\n",
    "            if lst[i][j] < lst[i+1][j]:\n",
    "                res = True\n",
    "            else:\n",
    "                res = False\n",
    "                break\n",
    "    return res\n",
    "\n",
    "lst1 = [[1, 2, 3, 2, 1, 1],\n",
    "        [2, 4, 4, 3, 2, 2],\n",
    "        [5, 5, 5, 5, 4, 4],\n",
    "        [6, 6, 7, 6, 5, 5]]\n",
    "print(places_in_the_hall(lst1))\n",
    "\n",
    "lst2 = [[1, 2, 3, 2, 1, 1],\n",
    "        [2, 4, 4, 3, 2, 2],\n",
    "        [5, 5, 5, 10, 4, 4],\n",
    "        [6, 6, 7, 6, 5, 5]]\n",
    "print(places_in_the_hall(lst2))"
   ]
  },
  {
   "cell_type": "markdown",
   "id": "68038820",
   "metadata": {},
   "source": [
    "### Задание 16:\n",
    "Создать функции, которая будет строить лестницу, используя знаки ‘_’ и ‘#’. Положительное значение обозначают, что направление лестницы направленно вверх и вниз для отрицательных значений.\n",
    "Пример\n",
    "\n",
    "``staircase(3) ➞ \"__#\\n_##\\n###\"\n",
    "__#\n",
    "_##\n",
    "###``\n",
    "\n",
    "``staircase(7) ➞ \"______#\\n_____##\\n____###\\n___####\\n__#####\\n_######\\n#######\"\n",
    "______#\n",
    "_____##\n",
    "____###\n",
    "___####\n",
    "__#####\n",
    "_######\n",
    "#######``\n",
    "\n",
    "``staircase(2) ➞ \"_#\\n##\"\n",
    "_#\n",
    "##``\n",
    "\n",
    "``staircase(-8) ➞ \"########\\n_#######\\n__######\\n___#####\\n____####\\n_____###\\n______##\\n_______#\"\n",
    "########\n",
    "_#######\n",
    "__######\n",
    "___#####\n",
    "____####\n",
    "_____###\n",
    "______##\n",
    "_______#``\n",
    "\n",
    "Замечания:\n",
    "Возвращаемая строка дополняется символом перехода на новую строку \\n"
   ]
  },
  {
   "cell_type": "code",
   "execution_count": 21,
   "id": "d497bf13",
   "metadata": {},
   "outputs": [
    {
     "name": "stdout",
     "output_type": "stream",
     "text": [
      "__#\n",
      "_##\n",
      "###\n",
      "\n",
      "______#\n",
      "_____##\n",
      "____###\n",
      "___####\n",
      "__#####\n",
      "_######\n",
      "#######\n",
      "\n",
      "_#\n",
      "##\n",
      "\n",
      "########\n",
      "_#######\n",
      "__######\n",
      "___#####\n",
      "____####\n",
      "_____###\n",
      "______##\n",
      "_______#\n",
      "\n"
     ]
    }
   ],
   "source": [
    "def staircase(num):\n",
    "    stairs = ''\n",
    "    for i in range(1, abs(num) + 1):\n",
    "        if num > 0:\n",
    "            stairs += ('_' * (num - i) + '#' * i + '\\n')\n",
    "        else:\n",
    "            stairs += ('_' * (i - 1) + '#' * (abs(num) - i + 1) + '\\n')\n",
    "    return stairs\n",
    "    \n",
    "print(staircase(3))\n",
    "print(staircase(7))\n",
    "print(staircase(2))\n",
    "print(staircase(-8))"
   ]
  },
  {
   "cell_type": "markdown",
   "id": "54f5f67e",
   "metadata": {},
   "source": [
    "### Задание 17:\n",
    "\n",
    "Имеется строк из символов в нижнем регистре ascii[[\"a\"..\"z\"]]. Нужно сократить строку следующим образом: берется пара соседних символов и если они одинаковы, то они удаляются. Например aab должно превратится в b.\n",
    "Нужно удалить как можно больше символов. Если результирующая строка пустая, нужно вернуть \"Empty String\"\n",
    "\n",
    "Пример:\n",
    "\n",
    "``super_reduced_string(\"aaabccddd\") ➞ \"abd\"``"
   ]
  },
  {
   "cell_type": "code",
   "execution_count": 22,
   "id": "ec3eb898",
   "metadata": {},
   "outputs": [
    {
     "name": "stdout",
     "output_type": "stream",
     "text": [
      "abd\n",
      "bcbsdwer\n"
     ]
    }
   ],
   "source": [
    "def super_reduced_string(in_str):\n",
    "    if len(in_str) == 0:\n",
    "        return \"Empty String\"\n",
    "    in_str_list = list(in_str)\n",
    "    for i, j in enumerate(in_str_list):\n",
    "        try:\n",
    "            if in_str_list[i+1] == j:\n",
    "                in_str_list.pop(i + 1)\n",
    "                in_str_list.pop(i)\n",
    "                return super_reduced_string(\"\".join(in_str_list))\n",
    "        except IndexError:\n",
    "            return in_str\n",
    "\n",
    "print(super_reduced_string(\"aaabccddd\"))\n",
    "print(super_reduced_string(\"bbbcccddbsdwwweraa\"))\n"
   ]
  },
  {
   "cell_type": "markdown",
   "id": "2824207b",
   "metadata": {},
   "source": [
    "### Задание 18:\n",
    "\n",
    "Создать функцию, которая вернет ближайшую к текущей странице главу. Если две главы одинаково близко, то выбирается та, которая находится на большей по порядку странице.\n",
    "Пример\n",
    "\n",
    "``nearest_chapter({\n",
    "  \"Chapter 1\" : 1,\n",
    "  \"Chapter 2\" : 15,\n",
    "  \"Chapter 3\" : 37\n",
    "}, 10) ➞ \"Chapter 2\"``\n",
    "\n",
    "\n",
    "``nearest_chapter({\n",
    "  \"New Beginnings\" : 1,\n",
    "  \"Strange Developments\" : 62,\n",
    "  \"The End?\" : 194,\n",
    "  \"The True Ending\" : 460\n",
    "}, 200) ➞ \"The End?\"``\n",
    "\n",
    "\n",
    "``nearest_chapter({\n",
    "  \"Chapter 1a\" : 1,\n",
    "  \"Chapter 1b\" : 5\n",
    "}, 3) ➞ \"Chapter 1b\"``"
   ]
  },
  {
   "cell_type": "code",
   "execution_count": 23,
   "id": "3bd290e8",
   "metadata": {},
   "outputs": [
    {
     "name": "stdout",
     "output_type": "stream",
     "text": [
      "Chapter 2\n",
      "The End?\n",
      "Chapter 1b\n"
     ]
    }
   ],
   "source": [
    "def nearest_chapter(book_chapters, page):\n",
    "    values_dict = list(book_chapters.values())\n",
    "    value_keys = list(book_chapters.keys())\n",
    "    \n",
    "    diff = 0\n",
    "    lst_diff = [] # Список с разностями\n",
    "    for i in range(len(book_chapters)):\n",
    "        diff = abs(page - values_dict[i])\n",
    "        lst_diff.append(diff)\n",
    "        \n",
    "    index_min_elem = lst_diff.index(min(lst_diff))\n",
    "    if index_min_elem == 0:\n",
    "        return value_keys[values_dict.index(max(values_dict))]\n",
    "    else:\n",
    "        return value_keys[index_min_elem]\n",
    "    \n",
    "    \n",
    "print(nearest_chapter({\n",
    "  \"Chapter 1\" : 1,\n",
    "  \"Chapter 2\" : 15,\n",
    "  \"Chapter 3\" : 37\n",
    "}, 10))\n",
    "\n",
    "print(nearest_chapter({\n",
    "  \"New Beginnings\" : 1,\n",
    "  \"Strange Developments\" : 62,\n",
    "  \"The End?\" : 194,\n",
    "  \"The True Ending\" : 460\n",
    "}, 200))\n",
    "\n",
    "print(nearest_chapter({\n",
    "  \"Chapter 1a\" : 1,\n",
    "  \"Chapter 1b\" : 5\n",
    "}, 3))"
   ]
  }
 ],
 "metadata": {
  "kernelspec": {
   "display_name": "Python 3",
   "language": "python",
   "name": "python3"
  },
  "language_info": {
   "codemirror_mode": {
    "name": "ipython",
    "version": 3
   },
   "file_extension": ".py",
   "mimetype": "text/x-python",
   "name": "python",
   "nbconvert_exporter": "python",
   "pygments_lexer": "ipython3",
   "version": "3.8.8"
  },
  "widgets": {
   "application/vnd.jupyter.widget-state+json": {
    "state": {},
    "version_major": 2,
    "version_minor": 0
   }
  }
 },
 "nbformat": 4,
 "nbformat_minor": 5
}
