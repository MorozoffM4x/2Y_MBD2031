{
 "cells": [
  {
   "cell_type": "code",
   "execution_count": 1,
   "id": "0a0ae991",
   "metadata": {},
   "outputs": [],
   "source": [
    "%matplotlib inline\n",
    "%config InlineBackend.figure_format = 'retina'\n",
    "import torch\n",
    "import numpy as np\n",
    "import torchvision\n",
    "import matplotlib.pyplot as plt\n",
    "from time import time\n",
    "from torchvision import datasets, transforms\n",
    "from torch import nn, optim"
   ]
  },
  {
   "cell_type": "code",
   "execution_count": 2,
   "id": "4758f224",
   "metadata": {},
   "outputs": [],
   "source": [
    "# Загрузка датасета\n",
    "transform = transforms.Compose([transforms.ToTensor(),transforms.Normalize((0.5,), (0.5,)),])\n",
    "trainset = datasets.MNIST('MNIST\\TRAIN', download=True, train=True, transform=transform)\n",
    "valset = datasets.MNIST('MNIST\\TEST', download=True, train=False, transform=transform)\n",
    "trainloader = torch.utils.data.DataLoader(trainset, batch_size=64, shuffle=True)\n",
    "valloader = torch.utils.data.DataLoader(valset, batch_size=64, shuffle=True)"
   ]
  },
  {
   "cell_type": "code",
   "execution_count": 3,
   "id": "22396994",
   "metadata": {},
   "outputs": [
    {
     "name": "stdout",
     "output_type": "stream",
     "text": [
      "torch.Size([64, 1, 28, 28])\n",
      "torch.Size([64])\n"
     ]
    }
   ],
   "source": [
    "dataiter = iter(trainloader)\n",
    "images, labels = dataiter.next()\n",
    "\n",
    "print(images.shape)\n",
    "print(labels.shape)"
   ]
  },
  {
   "cell_type": "code",
   "execution_count": 4,
   "id": "008a5e72",
   "metadata": {},
   "outputs": [],
   "source": [
    "# Создание модели: вход 784 (28х28) -> 128 -> 64 -> 10 (выход т.к. всего 10 цифр) активация ReLU.\n",
    "model = nn.Sequential(nn.Linear(784, 128),\n",
    "                      nn.ReLU(),\n",
    "                      nn.Linear(128, 64),\n",
    "                      nn.ReLU(),\n",
    "                      nn.Linear(64, 10),\n",
    "                      nn.LogSoftmax(dim=1))"
   ]
  },
  {
   "cell_type": "code",
   "execution_count": 5,
   "id": "4a0271d6",
   "metadata": {},
   "outputs": [
    {
     "name": "stdout",
     "output_type": "stream",
     "text": [
      "Используемое устройство: cuda\n"
     ]
    },
    {
     "data": {
      "text/plain": [
       "Sequential(\n",
       "  (0): Linear(in_features=784, out_features=128, bias=True)\n",
       "  (1): ReLU()\n",
       "  (2): Linear(in_features=128, out_features=64, bias=True)\n",
       "  (3): ReLU()\n",
       "  (4): Linear(in_features=64, out_features=10, bias=True)\n",
       "  (5): LogSoftmax(dim=1)\n",
       ")"
      ]
     },
     "execution_count": 5,
     "metadata": {},
     "output_type": "execute_result"
    }
   ],
   "source": [
    "# Перенос модели по возможности в Cuda\n",
    "device = torch.device(\"cuda\" if torch.cuda.is_available() else \"cpu\")\n",
    "print(\"Используемое устройство:\", device)\n",
    "model.to(device)"
   ]
  },
  {
   "cell_type": "code",
   "execution_count": 6,
   "id": "84c79752",
   "metadata": {},
   "outputs": [],
   "source": [
    "criterion = nn.NLLLoss()\n",
    "images, labels = next(iter(trainloader))\n",
    "images = images.view(images.shape[0], -1)\n",
    "logps = model(images.cuda())\n",
    "loss = criterion(logps, labels.cuda())"
   ]
  },
  {
   "cell_type": "code",
   "execution_count": 7,
   "id": "b7b7eb3c",
   "metadata": {},
   "outputs": [
    {
     "name": "stdout",
     "output_type": "stream",
     "text": [
      "До: \n",
      " None\n",
      "После: \n",
      " tensor([[-0.0024, -0.0024, -0.0024,  ..., -0.0024, -0.0024, -0.0024],\n",
      "        [ 0.0000,  0.0000,  0.0000,  ...,  0.0000,  0.0000,  0.0000],\n",
      "        [-0.0004, -0.0004, -0.0004,  ..., -0.0004, -0.0004, -0.0004],\n",
      "        ...,\n",
      "        [ 0.0023,  0.0023,  0.0023,  ...,  0.0023,  0.0023,  0.0023],\n",
      "        [-0.0008, -0.0008, -0.0008,  ..., -0.0008, -0.0008, -0.0008],\n",
      "        [ 0.0008,  0.0008,  0.0008,  ...,  0.0008,  0.0008,  0.0008]],\n",
      "       device='cuda:0')\n"
     ]
    }
   ],
   "source": [
    "print('До: \\n', model[0].weight.grad)\n",
    "\n",
    "loss.backward()\n",
    "\n",
    "print('После: \\n', model[0].weight.grad)"
   ]
  },
  {
   "cell_type": "code",
   "execution_count": 8,
   "id": "648f4f5d",
   "metadata": {},
   "outputs": [
    {
     "name": "stdout",
     "output_type": "stream",
     "text": [
      "Начальные веса -  Parameter containing:\n",
      "tensor([[-0.0322, -0.0034,  0.0125,  ..., -0.0281, -0.0129,  0.0074],\n",
      "        [ 0.0313,  0.0292,  0.0336,  ..., -0.0049, -0.0312,  0.0357],\n",
      "        [ 0.0297,  0.0247, -0.0270,  ..., -0.0041,  0.0036,  0.0117],\n",
      "        ...,\n",
      "        [ 0.0059, -0.0156, -0.0123,  ..., -0.0101,  0.0050, -0.0127],\n",
      "        [ 0.0044, -0.0338, -0.0286,  ...,  0.0056, -0.0234,  0.0200],\n",
      "        [ 0.0009,  0.0024, -0.0292,  ...,  0.0127,  0.0264,  0.0125]],\n",
      "       device='cuda:0', requires_grad=True)\n",
      "Градиент - tensor([[-0.0002, -0.0002, -0.0002,  ..., -0.0002, -0.0002, -0.0002],\n",
      "        [ 0.0000,  0.0000,  0.0000,  ...,  0.0000,  0.0000,  0.0000],\n",
      "        [-0.0016, -0.0016, -0.0016,  ..., -0.0016, -0.0016, -0.0016],\n",
      "        ...,\n",
      "        [-0.0037, -0.0037, -0.0037,  ..., -0.0037, -0.0037, -0.0037],\n",
      "        [-0.0002, -0.0002, -0.0002,  ..., -0.0002, -0.0002, -0.0002],\n",
      "        [ 0.0007,  0.0007,  0.0007,  ...,  0.0007,  0.0007,  0.0007]],\n",
      "       device='cuda:0')\n"
     ]
    }
   ],
   "source": [
    "optimizer = optim.SGD(model.parameters(), lr=0.01, momentum=0.5)\n",
    "print('Начальные веса - ', model[0].weight)\n",
    "images, labels = next(iter(trainloader))\n",
    "images.resize_(64, 784)\n",
    "\n",
    "# Очистка градиента\n",
    "optimizer.zero_grad()\n",
    "output = model(images.cuda())\n",
    "loss = criterion(output, labels.cuda())\n",
    "loss.backward()\n",
    "print('Градиент -', model[0].weight.grad)"
   ]
  },
  {
   "cell_type": "code",
   "execution_count": 9,
   "id": "32156a80",
   "metadata": {},
   "outputs": [
    {
     "name": "stdout",
     "output_type": "stream",
     "text": [
      "Эпоха 0 - Потери: 0.6584538724392589\n",
      "Эпоха 1 - Потери: 0.2811424090250977\n",
      "Эпоха 2 - Потери: 0.21672816311658571\n",
      "Эпоха 3 - Потери: 0.17806888055969786\n",
      "Эпоха 4 - Потери: 0.14945913403670288\n",
      "Эпоха 5 - Потери: 0.13049896989168644\n",
      "Эпоха 6 - Потери: 0.11405162384380092\n",
      "Эпоха 7 - Потери: 0.10220504359705553\n",
      "Эпоха 8 - Потери: 0.09012732848024635\n",
      "Эпоха 9 - Потери: 0.08255918890233836\n",
      "Эпоха 10 - Потери: 0.07518310931378178\n",
      "Эпоха 11 - Потери: 0.06898582596252405\n",
      "Эпоха 12 - Потери: 0.06310270840986205\n",
      "Эпоха 13 - Потери: 0.05759478728326637\n",
      "Эпоха 14 - Потери: 0.05410718841816801\n",
      "Эпоха 15 - Потери: 0.04971315821896849\n",
      "Эпоха 16 - Потери: 0.046193120087425446\n",
      "\n",
      "Протестировано изображений: 10000\n",
      "\n",
      "Точность модели: 0.9765\n"
     ]
    }
   ],
   "source": [
    "# Обучение модели\n",
    "optimizer = optim.SGD(model.parameters(), lr=0.003, momentum=0.9)\n",
    "# После 17 эпох риск переобучения возрастает\n",
    "epochs = 17\n",
    "for e in range(epochs):\n",
    "    running_loss = 0\n",
    "    for images, labels in trainloader:\n",
    "        images = images.view(images.shape[0], -1)\n",
    "        optimizer.zero_grad()\n",
    "        output = model(images.cuda())\n",
    "        loss = criterion(output, labels.cuda())\n",
    "        loss.backward()\n",
    "        # Оптимизация весов\n",
    "        optimizer.step()        \n",
    "        running_loss += loss.item()\n",
    "    else:\n",
    "        print(\"Эпоха {} - Потери: {}\".format(e, running_loss/len(trainloader)))\n",
    "    \n",
    "# Тест модели\n",
    "correct_count, all_count = 0, 0\n",
    "for images,labels in valloader:\n",
    "  for i in range(len(labels)):\n",
    "    img = images[i].view(1, 784)\n",
    "    with torch.no_grad():\n",
    "        logps = model(img.cuda())\n",
    "\n",
    "    ps = torch.exp(logps)\n",
    "    probab = list(ps.cpu().numpy()[0])\n",
    "    pred_label = probab.index(max(probab))\n",
    "    true_label = labels.numpy()[i]\n",
    "    if(true_label == pred_label):\n",
    "      correct_count += 1\n",
    "    all_count += 1\n",
    "\n",
    "print(\"\\nПротестировано изображений:\", all_count)\n",
    "print(\"\\nТочность модели:\", (correct_count/all_count))"
   ]
  },
  {
   "cell_type": "code",
   "execution_count": 10,
   "id": "d2370ddf",
   "metadata": {},
   "outputs": [
    {
     "name": "stdout",
     "output_type": "stream",
     "text": [
      "Прогнозируемая цифра: 3\n"
     ]
    },
    {
     "data": {
      "image/png": "[encoded data removed]",
      "text/plain": [
       "<Figure size 432x648 with 2 Axes>"
      ]
     },
     "metadata": {
      "image/png": {
       "height": 235,
       "width": 424
      },
      "needs_background": "light"
     },
     "output_type": "display_data"
    }
   ],
   "source": [
    "# Функция для вывода классификации\n",
    "def view_classify(img, ps):\n",
    "    ps = ps.cpu().data.numpy().squeeze()\n",
    "    fig, (ax1, ax2) = plt.subplots(figsize=(6,9), ncols=2)\n",
    "    ax1.imshow(img.resize_(1, 28, 28).numpy().squeeze(), cmap='gray_r')\n",
    "    ax1.axis('off')\n",
    "    ax2.barh(np.arange(10), ps)\n",
    "    ax2.set_aspect(0.1)\n",
    "    ax2.set_yticks(np.arange(10))\n",
    "    ax2.set_yticklabels(np.arange(10))\n",
    "    ax2.set_title('Вероятность класса')\n",
    "    ax2.set_xlim(0, 1.1)\n",
    "    plt.tight_layout()\n",
    "    \n",
    "# Визуальный тест\n",
    "images, labels = next(iter(valloader))\n",
    "img = images[0].view(1, 784)\n",
    "with torch.no_grad():\n",
    "    logps = model(img.cuda())\n",
    "\n",
    "# Вывод прогноза\n",
    "ps = torch.exp(logps)\n",
    "probab = list(ps.cpu().numpy()[0])\n",
    "print(\"Прогнозируемая цифра:\", probab.index(max(probab)))\n",
    "view_classify(img.view(1, 28, 28), ps)"
   ]
  }
 ],
 "metadata": {
  "kernelspec": {
   "display_name": "Python 3 (ipykernel)",
   "language": "python",
   "name": "python3"
  },
  "language_info": {
   "codemirror_mode": {
    "name": "ipython",
    "version": 3
   },
   "file_extension": ".py",
   "mimetype": "text/x-python",
   "name": "python",
   "nbconvert_exporter": "python",
   "pygments_lexer": "ipython3",
   "version": "3.8.8"
  }
 },
 "nbformat": 4,
 "nbformat_minor": 5
}
