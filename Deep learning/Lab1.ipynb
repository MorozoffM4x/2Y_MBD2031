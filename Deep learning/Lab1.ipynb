{
 "cells": [
  {
   "cell_type": "code",
   "execution_count": 1,
   "id": "9eae2b6a",
   "metadata": {},
   "outputs": [],
   "source": [
    "import numpy as np\n",
    "class Perceptron:\n",
    "    def __init__(self):\n",
    "        self.weights=[]\n",
    "\n",
    "    # Функция активации\n",
    "    def activation(self,data):\n",
    "        activation_val=np.dot(self.weights,data)\n",
    "        return 1 if activation_val>=0 else 0\n",
    "    # Функция обновления весов в соответствии с дельта-правилом\n",
    "    def fit(self,X,y,lrate,epochs):\n",
    "        # Инициализация весов\n",
    "        self.weights=[0.0 for i in range(len(X.columns))]\n",
    "        for epoch in range(epochs):\n",
    "            print(str(epoch+1),\"Эпоха...\")\n",
    "            for index in range(len(X)):\n",
    "                x=X.iloc[index]\n",
    "                predicted=self.activation(x)\n",
    "                if(y.iloc[index]==predicted):\n",
    "                    pass\n",
    "                else:\n",
    "                    error=y.iloc[index]-predicted\n",
    "                    for j in range(len(x)):\n",
    "                        self.weights[j]=self.weights[j]+lrate*error*x[j]\n",
    "    \n",
    "    # Прогнозирование\n",
    "    def predict(self,x_test):\n",
    "        predicted=[]\n",
    "        for i in range(len(x_test)):\n",
    "            predicted.append(self.activation(x_test.iloc[i]))\n",
    "        return predicted\n",
    "    \n",
    "    # Проверка точности\n",
    "    def accuracy(self,predicted,original):\n",
    "        correct=0\n",
    "        lent=len(predicted)\n",
    "        for i in range(lent):\n",
    "            if(predicted[i]==original.iloc[i]):\n",
    "                correct+=1\n",
    "        return (correct/lent)*100\n",
    "\n",
    "    def getweights(self):\n",
    "        return self.weights"
   ]
  },
  {
   "cell_type": "code",
   "execution_count": 12,
   "id": "44f18b52",
   "metadata": {},
   "outputs": [
    {
     "name": "stdout",
     "output_type": "stream",
     "text": [
      "1 Эпоха...\n",
      "2 Эпоха...\n",
      "3 Эпоха...\n",
      "4 Эпоха...\n",
      "5 Эпоха...\n",
      "6 Эпоха...\n",
      "7 Эпоха...\n",
      "8 Эпоха...\n",
      "9 Эпоха...\n",
      "10 Эпоха...\n",
      "Точность:  100.0\n",
      "Веса:  [-1.4499999999999997, -2.5, 3.05, 1.75]\n"
     ]
    }
   ],
   "source": [
    "import pandas as pd\n",
    "from sklearn.model_selection import train_test_split\n",
    "# Подготовка датасета\n",
    "data=pd.read_csv(\"iris.csv\")\n",
    "data.columns=[\"petal_length\",\"petal_width\",\"sepal_length\",\"sepal_width\",\"class\"]\n",
    "classes=data[\"class\"]\n",
    "data=data.drop(columns=\"class\")\n",
    "x_train,x_test,y_train,y_test=train_test_split(data,classes)\n",
    "# Модель и ее обучение\n",
    "model=Perceptron()\n",
    "model.fit(x_train,y_train,0.5,10)\n",
    "pred=model.predict(x_test)\n",
    "print(\"Точность: \",model.accuracy(pred,y_test))\n",
    "print(\"Веса: \",model.getweights())"
   ]
  }
 ],
 "metadata": {
  "kernelspec": {
   "display_name": "Python 3 (ipykernel)",
   "language": "python",
   "name": "python3"
  },
  "language_info": {
   "codemirror_mode": {
    "name": "ipython",
    "version": 3
   },
   "file_extension": ".py",
   "mimetype": "text/x-python",
   "name": "python",
   "nbconvert_exporter": "python",
   "pygments_lexer": "ipython3",
   "version": "3.8.8"
  }
 },
 "nbformat": 4,
 "nbformat_minor": 5
}
